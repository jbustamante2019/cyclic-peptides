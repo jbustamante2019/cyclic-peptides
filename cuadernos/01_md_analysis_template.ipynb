{
 "cells": [
  {
   "cell_type": "markdown",
   "id": "b3ed4e35",
   "metadata": {},
   "source": [
    "\n",
    "# 01 — Análisis de Dinámicas Moleculares y Selección de Estructuras Representativas\n",
    "\n",
    "**Propósito:** analizar trayectorias de dinámica molecular, extraer features, reducir dimensión, clusterizar, obtener centroides (frames representativos) y exportar PDBs \n",
    "\n"
   ]
  },
  {
   "cell_type": "markdown",
   "id": "2a80f92b-86c5-4136-937f-d0db8629850f",
   "metadata": {},
   "source": [
    "# Instalación con conda en python 3.12\n",
    "https://conda.io/miniconda.html\n",
    "\n",
    "* anaconda3/bin/conda install biopython -c conda-forge\n",
    "* anaconda3/bin/conda install numpy pandas matplotlib seaborn scikit-learn -c conda-forge\n",
    "* anaconda3/bin/conda install tqdm ipykernel jupyterlab -c conda-forge\n",
    "* anaconda3/bin/conda install mdtraj -c conda-forge\n",
    "* anaconda3/bin/conda install mdanalysis -c conda-forge\n",
    "* anaconda3/bin/conda install MDAnalysisTests -c conda-forge\n",
    "* anaconda3/bin/conda install ambertools -c conda-forge\n",
    "* anaconda3/bin/conda install nglview -c conda-forge\n",
    "* anaconda3/bin/conda install prody -c conda-forge\n",
    "* anaconda3/bin/conda install hdbscan -c conda-forge\n",
    "* anaconda3/bin/conda install scikit-learn -c conda-forge\n",
    "* anaconda3/bin/conda install umap-learn -c conda-forge\n",
    "* anaconda3/bin/conda install plotly -c conda-forge"
   ]
  },
  {
   "cell_type": "markdown",
   "id": "5b897a5c",
   "metadata": {},
   "source": [
    "\n",
    "## 0. Configuración inicial\n",
    "\n",
    "- Cargar librerías y funciones auxiliares.\n",
    "- Definir rutas de entrada/salida y semilla aleatoria.\n"
   ]
  },
  {
   "cell_type": "code",
   "execution_count": null,
   "id": "36fdde02",
   "metadata": {},
   "outputs": [],
   "source": [
    "def get_distances(traj):\n",
    "    \"\"\"Create a distance matrix\"\"\"\n",
    "    import mdtraj as md\n",
    "    from mdtraj.geometry.alignment import compute_average_structure\n",
    "    import numpy as np\n",
    "    traj_aligned = traj.superpose(traj[0], parallel=True)\n",
    "\n",
    "    # matrix initialization\n",
    "    distances = np.empty((traj.n_frames, traj.n_frames))\n",
    "    # Pairwise RMSD calculation (matrix n²)\n",
    "    for i in range(traj.n_frames):\n",
    "        distances[i]=md.rmsd(traj_aligned,traj_aligned, frame=i)\n",
    "    return distances"
   ]
  },
  {
   "cell_type": "code",
   "execution_count": null,
   "id": "b08fd845-b325-4bf9-8487-ce4b352305bd",
   "metadata": {},
   "outputs": [],
   "source": [
    "def TSNE_cluster(distances, min_cluster_size):\n",
    "    \"\"\"Create a TSNE cluster\"\"\"\n",
    "    from sklearn.manifold import TSNE\n",
    "    import hdbscan\n",
    "    import matplotlib.pyplot as plt\n",
    "\n",
    "    model = TSNE(n_components=2,verbose=2,perplexity=10,learning_rate=100)\n",
    "    data_tsne = model.fit_transform(distances)\n",
    "    #plt.scatter(data_tsne.T[0],data_tsne.T[1],cmap=\"gnuplot\")\n",
    "    cluster = hdbscan.HDBSCAN(min_cluster_size)\n",
    "    cluster.fit(data_tsne)\n",
    "    plt.scatter(data_tsne.T[0],data_tsne.T[1],cmap=\"gnuplot\",c=cluster.labels_)\n",
    "    print(len(set(cluster.labels_)), set(cluster.labels_))\n",
    "    return  data_tsne, cluster"
   ]
  },
  {
   "cell_type": "code",
   "execution_count": null,
   "id": "fcf61669-ed84-4b38-a933-5ce3d9917bec",
   "metadata": {},
   "outputs": [],
   "source": []
  },
  {
   "cell_type": "markdown",
   "id": "9380fed9",
   "metadata": {},
   "source": [
    "\n",
    "## 1. Carga y preprocesamiento de trayectorias\n",
    "\n",
    "- Cargar topología y trayectoria (MDAnalysis / MDTraj / pytraj).\n",
    "- Alinear backbones, corregir PBC y aplicar stride.\n",
    "- Guardar una copia reducida si procede para acelerar análisis.\n"
   ]
  },
  {
   "cell_type": "code",
   "execution_count": null,
   "id": "60b95f7e",
   "metadata": {},
   "outputs": [],
   "source": [
    "import mdtraj as md\n",
    "\n",
    "topology_file = '/Users/ruta/archivo.top'  \n",
    "trajectory_file = '/Users/ruta/archivo.nc'\n",
    "traj = md.load(trajectory_file, top=topology_file)"
   ]
  },
  {
   "cell_type": "code",
   "execution_count": null,
   "id": "e3b9d607-1687-4e68-8594-290c36f894e3",
   "metadata": {},
   "outputs": [],
   "source": [
    "# en esta parte es posible que se deba corregir el \"chainid 0 and resid 0 to 15\" y ajustar al largo del peptido para cada saco \n",
    "\n",
    "residues = traj.topology.select('(chainid 0 and resid 0 to 15) and not resname ACE and not resname NME and not resname T4P and not resname CL and not resname NA')\n",
    "traj_protein_only = traj.atom_slice(residues)\n",
    "print (traj_protein_only)"
   ]
  },
  {
   "cell_type": "code",
   "execution_count": null,
   "id": "cc624475-f233-4bdd-9af7-a3e4b24c519f",
   "metadata": {},
   "outputs": [],
   "source": [
    " for chain in traj_protein_only.topology.chains:\n",
    "    print(f\"Chain {chain.index}:\")\n",
    "    for residue in chain.residues:\n",
    "        print(f\"{residue.index} {residue.name}\")"
   ]
  },
  {
   "cell_type": "code",
   "execution_count": null,
   "id": "4d265312-2014-4bb4-97a8-aaa539c6d772",
   "metadata": {},
   "outputs": [],
   "source": [
    "sequence = []\n",
    "for chain in traj_protein_only.topology.chains:\n",
    "    for residue in chain.residues:\n",
    "        sequence.append(residue.name)\n",
    "sequence = \"-\".join(sequence)  # Unir los nombres de los residuos en una cadena\n"
   ]
  },
  {
   "cell_type": "markdown",
   "id": "2608c636",
   "metadata": {},
   "source": [
    "\n",
    "## 2. Selección de características (features)\n",
    "\n",
    "- Decide qué features usar: distancias inter-residuo, ángulos, dihedrales, RMSD contra referencia.\n",
    "- Guarda las features en disco (`.npz` o `.npy`) para no recalcular.\n"
   ]
  },
  {
   "cell_type": "code",
   "execution_count": null,
   "id": "f46f41b3",
   "metadata": {},
   "outputs": [],
   "source": [
    "traj = traj_protein_only.superpose(traj_protein_only[0], parallel=True)\n",
    "print(\"Trajectory superpose!\")\n",
    "distances_traj = get_distances(traj)\n",
    "print(\"Distances matrix ready!\")"
   ]
  },
  {
   "cell_type": "code",
   "execution_count": null,
   "id": "0aae6163-5808-4bde-90f7-05bb71b377db",
   "metadata": {},
   "outputs": [],
   "source": [
    "rmsds_traj = md.rmsd(traj_protein_only, traj_protein_only, 0)\n",
    "print(\"RMSD done!\")\n",
    "data_tsne_traj,cluster_traj   = TSNE_cluster(distances_traj, 20) #este ultimo valor se puede ajustar, este indica el valor minimo de estructuras necesarias para crear un cluster \n",
    "print(\"Clustering ready!\")"
   ]
  },
  {
   "cell_type": "code",
   "execution_count": null,
   "id": "0b7a7ded-d528-4e96-9120-27be573ac5b3",
   "metadata": {},
   "outputs": [],
   "source": [
    "# creacion de un data frame \n",
    "\n",
    "import pandas as pd\n",
    "import numpy as np\n",
    "\n",
    "reference = traj[0]\n",
    "rmsd = md.rmsd(traj, reference)\n",
    "\n",
    "rmsd_angstrom = rmsd \n",
    "\n",
    "data_rmsds_Gn = pd.DataFrame([rmsd], index=[\"RMSD\"])\n",
    "data_rmsds_Gn = data_rmsds_Gn.T\n",
    "data_rmsds_Gn[\"time\"] = np.arange(len(data_rmsds_Gn [\"RMSD\"]))\n",
    "\n",
    "#data_rmsds_Gn['y_cluster'] = np.full((1, 1002), -0.1)[0]\n",
    "#data_rmsds_Gn['x_cluster'] = cluster_traj.labels_"
   ]
  },
  {
   "cell_type": "markdown",
   "id": "9ab956ae",
   "metadata": {},
   "source": [
    "\n",
    "## 3. Reducción dimensional\n",
    "\n",
    "- Utiliza PCA / tICA / UMAP / t-SNE según necesidad.\n",
    "- Guarda embeddings para su reutilización.\n"
   ]
  },
  {
   "cell_type": "code",
   "execution_count": null,
   "id": "fac791c7",
   "metadata": {},
   "outputs": [],
   "source": [
    "\n",
    "%matplotlib inline\n",
    "%config InlineBackend.figure_format = 'retina'\n",
    "import seaborn as sns\n",
    "import matplotlib.pyplot as plt\n",
    "import numpy as np\n",
    "\n",
    "def plot_rmsd_with_average(data_rmsds_Gn, cluster_traj):\n",
    "    # Calcular el valor promedio del RMSD\n",
    "    average_rmsd = data_rmsds_Gn['RMSD'].mean()\n",
    "    \n",
    "    # Configuración del gráfico\n",
    "    plt.figure(1, figsize=(20, 6))\n",
    "    sns.set(style=\"whitegrid\")\n",
    "    sns.set(style=\"white\")\n",
    "    \n",
    "    plot = sns.lineplot(x=\"time\", y=\"RMSD\", data=data_rmsds_Gn, palette=\"tab10\", linewidth=1.5, dashes=False)\n",
    "    \n",
    "    # Puntos de colores según los clusters\n",
    "    plt.scatter(data_rmsds_Gn['time'], np.full((1, len(data_rmsds_Gn)), -0.1), cmap=\"gnuplot\", c=cluster_traj.labels_[:])\n",
    "    \n",
    "    # Añadir el valor promedio del RMSD al gráfico\n",
    "    plt.axhline(y=average_rmsd, color='r', linestyle='--', label=f'Average RMSD: {average_rmsd:.2f} nm')\n",
    "    \n",
    "    plt.title('RMSD')\n",
    "    plt.xlabel(\"time(ns)\")\n",
    "    plt.ylabel(r\"RMSD (nm)\")\n",
    "    plt.legend(loc='upper left')\n",
    "    \n",
    "    plt.show()\n",
    "    \n",
    "    return average_rmsd\n",
    "\n",
    "average_rmsd = plot_rmsd_with_average(data_rmsds_Gn, cluster_traj)\n",
    "#print(f\"El valor promedio del RMSD es: {average_rmsd:.2f} nm\")"
   ]
  },
  {
   "cell_type": "markdown",
   "id": "bb45a17a",
   "metadata": {},
   "source": [
    "\n",
    "## 4. Clustering\n",
    "\n",
    "- Ejecuta HDBSCAN (recomendado) o KMeans.\n",
    "- Guarda etiquetas y parámetros del clustering.\n",
    "- Evalúa con métricas (tamaño de cluster, silhouette, estabilidad).\n"
   ]
  },
  {
   "cell_type": "code",
   "execution_count": null,
   "id": "4341337b",
   "metadata": {},
   "outputs": [],
   "source": [
    "from collections import Counter\n",
    "import pandas as pd\n",
    "import seaborn as sns\n",
    "\n",
    "# Generar los datos del gráfico\n",
    "labels, values = zip(*Counter(cluster_traj.labels_).items())\n",
    "data8 = pd.DataFrame([labels, values], [\"Groups\", \"Frames\"])\n",
    "data8 = data8.T\n",
    "\n",
    "# Identificar el grupo con el mayor valor de Frames\n",
    "largest_group = data8.loc[data8[\"Frames\"].idxmax()]\n",
    "group_max = int(largest_group[\"Groups\"])\n",
    "frame_max = int(largest_group[\"Frames\"])\n",
    "\n",
    "# Guardar el resultado en una variable\n",
    "frem = frame_max\n",
    "\n",
    "# Visualizar el gráfico\n",
    "ax = sns.barplot(x=\"Groups\", y=\"Frames\", data=data8[:], palette=\"gnuplot\")\n",
    "\n"
   ]
  },
  {
   "cell_type": "markdown",
   "id": "9886a181",
   "metadata": {},
   "source": [
    "\n",
    "## 5. Cálculo de centroides\n",
    "\n",
    "- En feature space o embedding space, calcula el centro de cada cluster.\n",
    "- Encuentra el frame más cercano a ese centro y extráelo como PDB.\n",
    "- Exporta PDBs en `results/md_analysis/centroids/`.\n"
   ]
  },
  {
   "cell_type": "code",
   "execution_count": null,
   "id": "8a0b5c5a",
   "metadata": {},
   "outputs": [],
   "source": [
    "def get_centroid(traj, cluster, name, select=-1):\n",
    "    \"\"\"Centroid\"\"\"\n",
    "    traj_aligned = traj.superpose(traj[0], parallel=True)\n",
    "    \n",
    "    from collections import defaultdict\n",
    "    tally = defaultdict(list)\n",
    "    \n",
    "    for i,item in enumerate(cluster.labels_):\n",
    "        tally[item].append(i)\n",
    "    labels = list(set(cluster.labels_))\n",
    "    frames = []\n",
    "    \n",
    "    if select < 0:\n",
    "        labels = labels[:-1]\n",
    "    if select > 0:\n",
    "        labels = [labels[select]]\n",
    "        \n",
    "    for lab in labels:\n",
    "        traj_cluster = traj_aligned.slice(tally[lab])\n",
    "        atom_indices = [a.index for a in traj_cluster.topology.atoms if a.element.symbol != 'H']\n",
    "        distances = np.empty((traj_cluster.n_frames, traj_cluster.n_frames))\n",
    "        for i in range(traj_cluster.n_frames):\n",
    "            distances[i] = md.rmsd(traj_cluster, traj_cluster, i, atom_indices=atom_indices)\n",
    "        beta = 1\n",
    "        index = np.exp(-beta*distances / distances.std()).sum(axis=1).argmax()\n",
    "        print(index)\n",
    "        frames.append((traj_cluster.n_frames, index))\n",
    "        centroid = traj_cluster[index]\n",
    "        centroid.save_pdb(\"%s_c%s_%03d.pdb\"%(name, lab, index))\n",
    "        \n",
    "        frames = []\n",
    "        for i,value in enumerate(cluster_traj.labels_):\n",
    "            if value == lab:\n",
    "                frames.append(i)\n",
    "        global_index = frames[index]\n",
    "\n",
    "    return index, global_index, centroid"
   ]
  },
  {
   "cell_type": "code",
   "execution_count": null,
   "id": "48c5f31f-bf9c-4f3a-b644-814bbb158733",
   "metadata": {},
   "outputs": [],
   "source": [
    "# Obtener el centroide utilizando el grupo identificado\n",
    "index, global_index, centroid = get_centroid(traj, cluster_traj, \"traj\", 0)\n"
   ]
  },
  {
   "cell_type": "code",
   "execution_count": null,
   "id": "c07cd8a6-fc15-4edb-b4b3-3c7185e72598",
   "metadata": {},
   "outputs": [],
   "source": [
    "# Identificar el frame representativo del grupo más grande\n",
    "frames = []\n",
    "for i, value in enumerate(cluster_traj.labels_):\n",
    "    if value == 0:  # Usar el grupo más grande\n",
    "        frames.append(i)\n",
    "len(frames)\n",
    "frames[213]"
   ]
  },
  {
   "cell_type": "markdown",
   "id": "38bdc10c",
   "metadata": {},
   "source": [
    "\n",
    "## 6. Visualización avanzada\n",
    "\n",
    "- Reproducir las estructuras representativas (nglview, py3Dmol).\n",
    "- Guardar figuras que ilustren clusters y estructuras.\n"
   ]
  },
  {
   "cell_type": "code",
   "execution_count": null,
   "id": "5e26ba84",
   "metadata": {},
   "outputs": [],
   "source": [
    "frame_index = 158 # en esta parte se debe coloar el valor del frame más representativo del centroide\n",
    "frame = traj[frame_index]\n",
    "\n",
    "# Guardar el frame seleccionado como archivo PDB\n",
    "output_pdb_file = f'estructura_frame_{frame_index}.pdb'\n",
    "frame.save_pdb(output_pdb_file)\n",
    "\n",
    "print(f\"Estructura 3mgn del frame {frame_index} guardada en {output_pdb_file}\")"
   ]
  },
  {
   "cell_type": "markdown",
   "id": "9bcfdd4a",
   "metadata": {},
   "source": [
    "\n",
    "## 7. Exportación de resultados\n",
    "\n",
    "- Tabla resumen: `results/md_analysis/summary_clusters.csv` (cluster_id, n_frames, centroid_frame, notas).\n",
    "- Guardar todo lo necesario para el notebook 02 (PDBs de centroides, json con índices, embeddings).\n"
   ]
  },
  {
   "cell_type": "code",
   "execution_count": null,
   "id": "f2e5dcfe",
   "metadata": {},
   "outputs": [],
   "source": [
    "# Extraer el nombre del archivo de topología (1t7d)\n",
    "name = topology_file.split('/')[-1].split('.')[0]  # Extraer \"1t7d\" del nombre del archivo\n",
    "\n",
    "frames = traj_protein_only.n_frames\n",
    "residues_count = traj_protein_only.n_residues\n",
    "atoms_count = traj_protein_only.n_atoms\n",
    "\n",
    "# Calcular el número de conformaciones encontradas (ignorando el grupo -1)\n",
    "labels, values = zip(*Counter(cluster_traj.labels_).items())\n",
    "data8 = pd.DataFrame([labels, values], [\"Groups\", \"Frames\"]).T\n",
    "data8 = data8[data8[\"Groups\"] != -1]  # Ignorar el grupo -1\n",
    "num_conformations = len(data8)\n",
    "\n",
    "# Obtener el grupo más grande\n",
    "largest_group = data8.loc[data8[\"Frames\"].idxmax()]\n",
    "group_max = int(largest_group[\"Groups\"])\n",
    "\n",
    "# Obtener el frame representativo del grupo más grande\n",
    "_, representative_frame, _ = get_centroid(traj_protein_only, cluster_traj, name, select=group_max)\n",
    "\n",
    "# Crear la tabla resumen\n",
    "summary_table = pd.DataFrame({\n",
    "    \"Name\": [name],\n",
    "    \"Frames\": [frames],\n",
    "    \"Residues\": [residues_count],\n",
    "    \"Atoms\": [atoms_count],\n",
    "    \"Sequence\": [sequence],\n",
    "    \"RMSD (Å)\": [average_rmsd],\n",
    "    \"Conformaciones\": [num_conformations],\n",
    "    \"Frame Representativo\": [representative_frame]\n",
    "})\n",
    "\n",
    "# Aplicar formato a la tabla\n",
    "styled_table = summary_table.style \\\n",
    "    .format(precision=3, thousands=\".\", decimal=\",\") \\\n",
    "    .format_index(str.upper, axis=1) \\\n",
    "    .set_properties(**{'text-align': 'left'}) \\\n",
    "    .set_table_styles([{\n",
    "        'selector': 'th',\n",
    "        'props': [('background-color', '#4CAF50'), ('color', 'white')]\n",
    "    }])\n",
    "\n",
    "# Mostrar la tabla con estilo\n",
    "styled_table\n",
    "\n",
    "summary_table = pd.DataFrame({\n",
    "    \"Name\": [name],\n",
    "    \"Frames\": [frames],\n",
    "    \"Residues\": [residues_count],\n",
    "    \"Atoms\": [atoms_count],\n",
    "    \"Sequence\": [sequence],\n",
    "    \"RMSD (Å)\": [average_rmsd]\n",
    "})\n",
    "\n",
    "# Formato a la tabla\n",
    "styled_table = summary_table.style \\\n",
    "    .format(precision=3, thousands=\".\", decimal=\",\") \\\n",
    "    .format_index(str.upper, axis=1) \\\n",
    "    .set_properties(**{'text-align': 'left'}) \\\n",
    "    .set_table_styles([{\n",
    "        'selector': 'th',\n",
    "        'props': [('background-color', '#4CAF50'), ('color', 'white')]\n",
    "    }])\n",
    "\n",
    "styled_table\n",
    "\n",
    "# Guardar la tabla \n",
    "# summary_table.to_csv(f\"{name}_summary_table.csv\", index=False)"
   ]
  }
 ],
 "metadata": {
  "kernelspec": {
   "display_name": "Python 3 (ipykernel)",
   "language": "python",
   "name": "python3"
  },
  "language_info": {
   "codemirror_mode": {
    "name": "ipython",
    "version": 3
   },
   "file_extension": ".py",
   "mimetype": "text/x-python",
   "name": "python",
   "nbconvert_exporter": "python",
   "pygments_lexer": "ipython3",
   "version": "3.10.18"
  }
 },
 "nbformat": 4,
 "nbformat_minor": 5
}
