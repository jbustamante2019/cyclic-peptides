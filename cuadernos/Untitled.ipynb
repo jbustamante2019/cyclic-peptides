{
 "cells": [
  {
   "cell_type": "code",
   "execution_count": null,
   "id": "52b12c66-6754-4376-9ce6-a6fb174d922e",
   "metadata": {},
   "outputs": [],
   "source": [
    "\n",
    "RECEPTOR=\"/Users/blillo/juancarlos/docking/PDBQT_recep/ACVR1_FOP_F7742.pdbqt\"\n",
    "LIGAND_DIR=\"/Users/blillo/juancarlos/docking/ligandos_obabel\"\n",
    "OUT_DIR=\"/Users/blillo/juancarlos/docking/resultados_smina\"\n",
    "LOG_DIR=\"$OUT_DIR/logs\"\n",
    "RESUMEN=\"$OUT_DIR/resumen_scores.csv\"\n",
    "\n",
    "# Crear carpetas de salida si no existen\n",
    "mkdir -p \"$OUT_DIR\"\n",
    "mkdir -p \"$LOG_DIR\"\n",
    "\n"
   ]
  },
  {
   "cell_type": "code",
   "execution_count": null,
   "id": "2f60ba20-2631-49e4-bc26-89a1cbc40760",
   "metadata": {},
   "outputs": [],
   "source": [
    "\n",
    "CENTER_X=3.849\n",
    "CENTER_Y=69.620\n",
    "CENTER_Z=55.382\n",
    "SIZE_X=25\n",
    "SIZE_Y=25\n",
    "SIZE_Z=25\n",
    "EXHAUSTIVENESS=4\n",
    "CPU=10\n",
    "\n",
    "# Encabezado del archivo resumen\n",
    "echo \"Ligando,Score\" > \"$RESUMEN\"\n",
    "\n",
    "# Loop por cada ligando\n",
    "for LIGAND in \"$LIGAND_DIR\"/*.pdbqt; do\n",
    "    BASENAME=$(basename \"$LIGAND\" .pdbqt)\n",
    "    OUTPUT=\"$OUT_DIR/${BASENAME}_out.pdbqt\"\n",
    "    LOGFILE=\"$LOG_DIR/${BASENAME}.log\"\n",
    "\n",
    "    echo \"Procesando $BASENAME...\"\n",
    "\n",
    "    # Ejecutar docking\n",
    "    smina --receptor \"$RECEPTOR\" \\\n",
    "          --ligand \"$LIGAND\" \\\n",
    "          --center_x $CENTER_X \\\n",
    "          --center_y $CENTER_Y \\\n",
    "          --center_z $CENTER_Z \\\n",
    "          --size_x $SIZE_X \\\n",
    "          --size_y $SIZE_Y \\\n",
    "          --size_z $SIZE_Z \\\n",
    "          --exhaustiveness $EXHAUSTIVENESS \\\n",
    "          --cpu $CPU \\\n",
    "          --scoring vina \\\n",
    "          --out \"$OUTPUT\" \\\n",
    "          --log \"$LOGFILE\"\n",
    "\n",
    "    # Extraer el mejor score (primera línea con \"REMARK VINA RESULT\")\n",
    "    SCORE=$(grep \"^REMARK VINA RESULT\" \"$LOGFILE\" | head -n 1 | awk '{print $4}')\n",
    "\n",
    "    # Guardar en resumen\n",
    "    echo \"$BASENAME,$SCORE\" >> \"$RESUMEN\"\n",
    "done\n",
    "\n",
    "echo \" Resumen guardado en: $RESUMEN\""
   ]
  }
 ],
 "metadata": {
  "kernelspec": {
   "display_name": "Python 3 (ipykernel)",
   "language": "python",
   "name": "python3"
  },
  "language_info": {
   "codemirror_mode": {
    "name": "ipython",
    "version": 3
   },
   "file_extension": ".py",
   "mimetype": "text/x-python",
   "name": "python",
   "nbconvert_exporter": "python",
   "pygments_lexer": "ipython3",
   "version": "3.10.18"
  }
 },
 "nbformat": 4,
 "nbformat_minor": 5
}
