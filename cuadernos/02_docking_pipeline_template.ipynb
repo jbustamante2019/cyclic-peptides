{
 "cells": [
  {
   "cell_type": "markdown",
   "id": "f9bb29d4",
   "metadata": {},
   "source": [
    "\n",
    "# 02 — Pipeline de Docking Molecular con Estructuras Representativas\n",
    "\n",
    "**Propósito:** Tomar las estructuras representativas extraídas del cuaderno 01 y ejecutar un pipeline de preparación y docking contra la interfase de la proteína objetivo.  \n",
    "\n",
    "**Contenido:** preparación del receptor, preparación de ligandos (centroides), definición de la caja, ejecución del docking (AutoDock Vina / Smina), post-procesado y exportación de resultados.\n"
   ]
  },
  {
   "cell_type": "markdown",
   "id": "b6557462",
   "metadata": {},
   "source": [
    "\n",
    "## Instalación \n",
    "\n",
    "Ejecutar en terminal  para crear el entorno recomendado:\n",
    "\n",
    "\n",
    "conda create -n docking python=3.10 -c conda-forge -y\n",
    "conda activate md-docking\n",
    "mamba install -c conda-forge mdtraj mdanalysis openbabel rdkit nglview py3dmol vina biopython -y\n",
    "python -m pip install pbxplore weblogo\n",
    "python -m ipykernel install --user --name md-docking --display-name \"Python (md-docking)\"\n",
    "```\n"
   ]
  },
  {
   "cell_type": "markdown",
   "id": "ab8d9abe",
   "metadata": {},
   "source": [
    "\n",
    "## Índice\n",
    "\n",
    "1. Configuración y lectura de rutas  \n",
    "2. Preparación del receptor (limpieza, protonación, definición de interfase)  \n",
    "3. Preparación de ligandos (centroides): conversión a PDBQT / minimización rápida  \n",
    "4. Definición de la caja de docking (centro y dimensiones)  \n",
    "5. Ejecución del docking (Vina / Smina) — ejemplo por ligando  \n",
    "6. Post-procesado: scores, RMSD entre poses, contactos con la interfase  \n",
    "7. Visualización y exportación de resultados  \n",
    "8. Conclusiones y próximos pasos\n"
   ]
  },
  {
   "cell_type": "markdown",
   "id": "741ef086",
   "metadata": {},
   "source": [
    "## 1. Configuración y lectura de rutas"
   ]
  },
  {
   "cell_type": "code",
   "execution_count": null,
   "id": "9b651089",
   "metadata": {},
   "outputs": [],
   "source": [
    "import os\n",
    "from pathlib import Path\n",
    "import json\n",
    "\n",
    "# Rutas \n",
    "PROJECT_ROOT = Path.cwd()\n",
    "CENTROIDS_DIR = PROJECT_ROOT / \"results\" / \"md_analysis\" / \"centroids\"\n",
    "RECEPTOR_PDB = PROJECT_ROOT / \"data\" / \"receptor\" / \"receptor_clean.pdb\"  # receptor (limpio)\n",
    "OUTPUT_DIR = PROJECT_ROOT / \"results\" / \"docking\"\n",
    "OUTPUT_DIR.mkdir(parents=True, exist_ok=True)\n",
    "\n",
    "# Parámetros de docking \n",
    "DOCKING_ENGINE = \"vina\"   # 'vina' o 'smina' (si instalas smina)\n",
    "EXHAUSTIVENESS = 8\n",
    "NUM_POSES = 10\n",
    "\n",
    "print(\"Centroids dir:\", CENTROIDS_DIR)\n",
    "print(\"Receptor:\", RECEPTOR_PDB)\n",
    "print(\"Output:\", OUTPUT_DIR)\n"
   ]
  },
  {
   "cell_type": "markdown",
   "id": "5635a58a",
   "metadata": {},
   "source": [
    "## 2. Preparación del receptor"
   ]
  },
  {
   "cell_type": "code",
   "execution_count": null,
   "id": "795ef577",
   "metadata": {},
   "outputs": [],
   "source": [
    "\n",
    "# Ejemplo de limpieza simple con Biopython/MDAnalysis (adáptalo)\n",
    "# NOTA: estas líneas son para ejecutar dentro del notebook cuando tengas las librerías instaladas.\n",
    "\n",
    "import MDAnalysis as mda\n",
    "from MDAnalysis.coordinates import PDB\n",
    "\n",
    "# Cargar receptor (ejemplo)\n",
    "u = mda.Universe(str(RECEPTOR_PDB))\n",
    "print(u.atoms.n_atoms, \"átomos en la estructura del receptor\")\n",
    "\n",
    "# Ejemplo: eliminar aguas y ligandos (define tu selección)\n",
    "protein = u.select_atoms(\"protein\")\n",
    "# escribir PDB limpio\n",
    "clean_receptor = OUTPUT_DIR / \"receptor_clean_for_docking.pdb\"\n",
    "with mda.Writer(str(clean_receptor), protein.n_atoms) as W:\n",
    "    W.write(protein)\n",
    "\n",
    "print(\"Receptor limpio guardado en:\", clean_receptor)\n",
    "\n"
   ]
  },
  {
   "cell_type": "markdown",
   "id": "92a46014",
   "metadata": {},
   "source": [
    "## 3. Preparación de ligandos (centroides)"
   ]
  },
  {
   "cell_type": "code",
   "execution_count": null,
   "id": "169a8b34",
   "metadata": {},
   "outputs": [],
   "source": [
    "# Convertir centroides PDB -> PDBQT usando OpenBabel (ejemplo)\n",
    "# Asegúrate de tener openbabel/obabel instalado en tu entorno.\n",
    "\n",
    "import subprocess\n",
    "centroid_files = sorted([p for p in (CENTROIDS_DIR).glob(\"*.pdb\")])\n",
    "\n",
    "prepared_ligands_dir = OUTPUT_DIR / \"ligands_prepared\"\n",
    "prepared_ligands_dir.mkdir(parents=True, exist_ok=True)\n",
    "\n",
    "for pdb in centroid_files:\n",
    "    base = pdb.stem\n",
    "    pdbqt_out = prepared_ligands_dir / f\"{base}.pdbqt\"\n",
    "    # ejemplo comando obabel (ajusta si usas obabel o obconformer)\n",
    "    cmd = f\"obabel -ipdb {pdb} -opdbqt -O {pdbqt_out} --addhydrogens\"\n",
    "    print(\"Running:\", cmd)\n",
    "    subprocess.run(cmd, shell=True, check=False)\n",
    "print(\"Ligandos convertidos (PDBQT) en:\", prepared_ligands_dir)\n"
   ]
  },
  {
   "cell_type": "markdown",
   "id": "b1f1fef8",
   "metadata": {},
   "source": [
    "## 4. Definición de la caja de docking"
   ]
  },
  {
   "cell_type": "code",
   "execution_count": null,
   "id": "2da3c131",
   "metadata": {},
   "outputs": [],
   "source": [
    "\n",
    "# Definir caja: dos opciones comunes\n",
    "#  - Centro en coordenadas promedio de residuos de la interfase\n",
    "#  - Centro en atomos específicos (p. ej. CA de residuo X)\n",
    "\n",
    "import numpy as np\n",
    "import MDAnalysis as mda\n",
    "\n",
    "u = mda.Universe(str(RECEPTOR_PDB))\n",
    "\n",
    "# Ajusta la selección de interfase según tu receptor\n",
    "interface_sel = u.select_atoms(\"resid 100:110 and name CA\")  # <- ajustar\n",
    "coords = interface_sel.positions\n",
    "center = coords.mean(axis=0)\n",
    "print(\"Centro de la caja (x,y,z):\", center)\n",
    "\n",
    "# Dimensiones de la caja (Å) - ajustar según tamaño del ligando/interfase\n",
    "size_x = 20.0\n",
    "size_y = 20.0\n",
    "size_z = 20.0\n",
    "\n",
    "# Guardar parámetros\n",
    "box_params = {\"center\": center.tolist(), \"size\": [size_x, size_y, size_z]}\n",
    "with open(OUTPUT_DIR / \"box_params.json\", \"w\") as f:\n",
    "    json.dump(box_params, f, indent=2)\n",
    "print(\"Box params saved:\", OUTPUT_DIR / \"box_params.json\")\n"
   ]
  },
  {
   "cell_type": "markdown",
   "id": "8c9e1833",
   "metadata": {},
   "source": [
    "## 5. Ejecución del docking"
   ]
  },
  {
   "cell_type": "code",
   "execution_count": null,
   "id": "17aef133",
   "metadata": {},
   "outputs": [],
   "source": [
    "# Ejecutar AutoDock Vina para cada ligando (ejemplo)\n",
    "\n",
    "import subprocess\n",
    "from pathlib import Path\n",
    "\n",
    "prepared_ligands = sorted((OUTPUT_DIR / \"ligands_prepared\").glob(\"*.pdbqt\"))\n",
    "receptor_pdbqt = OUTPUT_DIR / \"receptor_clean_for_docking.pdbqt\"\n",
    "\n",
    "# Convertir receptor a PDBQT (si usas AutoDockTools/babel)\n",
    "# Aquí asumimos que ya tienes receptor_pdbqt; de lo contrario, conviértelo con obabel o AutoDockTools\n",
    "\n",
    "docking_results_dir = OUTPUT_DIR / \"poses\"\n",
    "docking_results_dir.mkdir(parents=True, exist_ok=True)\n",
    "\n",
    "# Cargar box params\n",
    "with open(OUTPUT_DIR / \"box_params.json\") as f:\n",
    "    box_params = json.load(f)\n",
    "\n",
    "center = box_params[\"center\"]\n",
    "size = box_params[\"size\"]\n",
    "\n",
    "for lig in prepared_ligands:\n",
    "    out_prefix = docking_results_dir / lig.stem\n",
    "    out_pdbqt = out_prefix.with_suffix(\".out.pdbqt\")\n",
    "    log_txt = out_prefix.with_suffix(\".log.txt\")\n",
    "    cmd = f\"vina --receptor {receptor_pdbqt} --ligand {lig} --center_x {center[0]} --center_y {center[1]} --center_z {center[2]} --size_x {size[0]} --size_y {size[1]} --size_z {size[2]} --exhaustiveness {EXHAUSTIVENESS} --num_modes {NUM_POSES} --out {out_pdbqt} --log {log_txt}\"\n",
    "    print(\"Running:\", cmd)\n",
    "    subprocess.run(cmd, shell=True, check=False)\n",
    "print(\"Docking finished. Results in:\", docking_results_dir)\n"
   ]
  },
  {
   "cell_type": "markdown",
   "id": "1bf02126",
   "metadata": {},
   "source": [
    "## 6. Post-procesado y análisis de resultados"
   ]
  },
  {
   "cell_type": "code",
   "execution_count": null,
   "id": "6e201825",
   "metadata": {},
   "outputs": [],
   "source": [
    "# Leer logs / extraer scores y generar tabla resumen\n",
    "\n",
    "import re\n",
    "import pandas as pd\n",
    "from pathlib import Path\n",
    "\n",
    "docking_dir = OUTPUT_DIR / \"poses\"\n",
    "summary = []\n",
    "\n",
    "for out in sorted(docking_dir.glob(\"*.log.txt\")):\n",
    "    ligand_name = out.stem\n",
    "    score = None\n",
    "    with open(out) as f:\n",
    "        for line in f:\n",
    "            # Vina log contains lines like: \"1  -7.5  0.000  0.000\"\n",
    "            m = re.match(r'\\s*1\\s+([\\-0-9\\.]+)\\s+', line)\n",
    "            if m:\n",
    "                score = float(m.group(1))\n",
    "                break\n",
    "    summary.append({\"ligand\": ligand_name, \"best_score\": score})\n",
    "df = pd.DataFrame(summary).sort_values(\"best_score\")\n",
    "df.to_csv(OUTPUT_DIR / \"docking_summary.csv\", index=False)\n",
    "df.head(20)\n"
   ]
  },
  {
   "cell_type": "code",
   "execution_count": null,
   "id": "3451eec0",
   "metadata": {},
   "outputs": [],
   "source": []
  }
 ],
 "metadata": {
  "kernelspec": {
   "display_name": "Python 3 (ipykernel)",
   "language": "python",
   "name": "python3"
  },
  "language_info": {
   "codemirror_mode": {
    "name": "ipython",
    "version": 3
   },
   "file_extension": ".py",
   "mimetype": "text/x-python",
   "name": "python",
   "nbconvert_exporter": "python",
   "pygments_lexer": "ipython3",
   "version": "3.10.18"
  }
 },
 "nbformat": 4,
 "nbformat_minor": 5
}
